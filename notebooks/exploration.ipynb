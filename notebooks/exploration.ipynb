{
 "cells": [
  {
   "cell_type": "markdown",
   "metadata": {},
   "source": [
    "# Aspect-Based Sentiment Analysis - Exploration & Evaluation\n",
    "\n",
    "This notebook demonstrates and evaluates all three ABSA implementations:\n",
    "- **Lexicon-based ABSA**: Using spaCy and sentiment lexicons\n",
    "- **Transformer-based ABSA**: Using pre-trained Hugging Face models\n",
    "- **LLM-based ABSA**: Using local LLM through Ollama\n",
    "\n",
    "## Dataset\n",
    "We're using 50 Yelp reviews with manually annotated ground truth (253 aspects total)"
   ]
  },
  {
   "cell_type": "markdown",
   "metadata": {},
   "source": [
    "## Setup and Imports"
   ]
  },
  {
   "cell_type": "code",
   "metadata": {
    "ExecuteTime": {
     "end_time": "2025-10-28T16:47:20.361972Z",
     "start_time": "2025-10-28T16:47:16.349949Z"
    }
   },
   "source": [
    "import sys\n",
    "import os\n",
    "import json\n",
    "import time\n",
    "import pandas as pd\n",
    "import matplotlib.pyplot as plt\n",
    "import seaborn as sns\n",
    "from pathlib import Path\n",
    "import numpy as np\n",
    "\n",
    "# Add parent directory to path for imports\n",
    "sys.path.insert(0, os.path.join(os.path.dirname(os.getcwd()), 'src'))\n",
    "\n",
    "from src.base import AspectSentiment\n",
    "from src.lexicon_absa import LexiconABSA\n",
    "from src.transformer_absa import TransformerABSA\n",
    "from src.llm_absa import LLMABSA\n",
    "from src.utils import (\n",
    "    load_test_data, calculate_accuracy, \n",
    "    calculate_precision_recall_f1, benchmark_analyzer\n",
    ")\n",
    "\n",
    "# Set plot style\n",
    "sns.set_style('whitegrid')\n",
    "plt.rcParams['figure.figsize'] = (12, 6)\n",
    "\n",
    "print(\"✓ Imports successful!\")"
   ],
   "outputs": [
    {
     "name": "stdout",
     "output_type": "stream",
     "text": [
      "✓ Imports successful!\n"
     ]
    }
   ],
   "execution_count": 1
  },
  {
   "cell_type": "markdown",
   "metadata": {},
   "source": [
    "## Load Test Data with Ground Truth"
   ]
  },
  {
   "cell_type": "code",
   "metadata": {
    "ExecuteTime": {
     "end_time": "2025-10-28T16:47:20.374385Z",
     "start_time": "2025-10-28T16:47:20.369820Z"
    }
   },
   "source": [
    "# Load the annotated test data\n",
    "data_file = 'data/test_samples.json'\n",
    "test_data = load_test_data(data_file)\n",
    "\n",
    "print(f\"Loaded {len(test_data)} test samples\")\n",
    "\n",
    "# Calculate ground truth statistics\n",
    "total_aspects = sum(len(item['ground_truth']) for item in test_data)\n",
    "sentiment_counts = {'positive': 0, 'negative': 0, 'neutral': 0}\n",
    "\n",
    "for item in test_data:\n",
    "    for gt in item['ground_truth']:\n",
    "        if gt['sentiment'] in sentiment_counts:\n",
    "            sentiment_counts[gt['sentiment']] += 1\n",
    "\n",
    "print(f\"Total aspects in ground truth: {total_aspects}\")\n",
    "print(f\"Average aspects per review: {total_aspects/len(test_data):.2f}\")\n",
    "print(f\"\\nSentiment distribution:\")\n",
    "for sentiment, count in sentiment_counts.items():\n",
    "    print(f\"  {sentiment.capitalize()}: {count} ({count/total_aspects*100:.1f}%)\")\n",
    "\n",
    "# Show first few samples\n",
    "print(\"\\n\" + \"=\"*70)\n",
    "print(\"Sample reviews with ground truth:\")\n",
    "print(\"=\"*70)\n",
    "for i, item in enumerate(test_data[:3], 1):\n",
    "    print(f\"\\n{i}. {item['text'][:80]}...\")\n",
    "    print(f\"   Ground truth aspects: {len(item['ground_truth'])}\")\n",
    "    for gt in item['ground_truth'][:3]:  # Show first 3 aspects\n",
    "        print(f\"     - {gt['aspect']}: {gt['sentiment']} (confidence: {gt['confidence']})\")"
   ],
   "outputs": [
    {
     "name": "stdout",
     "output_type": "stream",
     "text": [
      "Loaded 50 test samples\n",
      "Total aspects in ground truth: 253\n",
      "Average aspects per review: 5.06\n",
      "\n",
      "Sentiment distribution:\n",
      "  Positive: 185 (73.1%)\n",
      "  Negative: 53 (20.9%)\n",
      "  Neutral: 15 (5.9%)\n",
      "\n",
      "======================================================================\n",
      "Sample reviews with ground truth:\n",
      "======================================================================\n",
      "\n",
      "1. If you decide to eat here, just be aware it is going to take about 2 hours from ...\n",
      "   Ground truth aspects: 4\n",
      "     - wait time: negative (confidence: 0.95)\n",
      "     - food: positive (confidence: 0.75)\n",
      "     - waitstaff: positive (confidence: 0.65)\n",
      "\n",
      "2. I've taken a lot of spin classes over the years, and nothing compares to the cla...\n",
      "   Ground truth aspects: 6\n",
      "     - classes: positive (confidence: 0.95)\n",
      "     - space: positive (confidence: 0.85)\n",
      "     - bikes: positive (confidence: 0.9)\n",
      "\n",
      "3. Family diner. Had the buffet. Eclectic assortment: a large chicken leg, fried ja...\n",
      "   Ground truth aspects: 4\n",
      "     - buffet: positive (confidence: 0.8)\n",
      "     - food variety: positive (confidence: 0.85)\n",
      "     - staff: positive (confidence: 0.9)\n"
     ]
    }
   ],
   "execution_count": 2
  },
  {
   "cell_type": "markdown",
   "metadata": {},
   "source": [
    "## Initialize Analyzers"
   ]
  },
  {
   "cell_type": "code",
   "metadata": {
    "ExecuteTime": {
     "end_time": "2025-10-28T16:47:22.504523Z",
     "start_time": "2025-10-28T16:47:20.387006Z"
    }
   },
   "source": [
    "analyzers = {}\n",
    "\n",
    "print(\"Initializing analyzers...\\n\")\n",
    "\n",
    "# Lexicon-based ABSA\n",
    "try:\n",
    "    lexicon_analyzer = LexiconABSA()\n",
    "    analyzers['Lexicon'] = lexicon_analyzer\n",
    "    print(\"✓ LexiconABSA initialized successfully\")\n",
    "except Exception as e:\n",
    "    print(f\"✗ LexiconABSA failed to initialize: {e}\")\n",
    "\n",
    "# Transformer-based ABSA\n",
    "try:\n",
    "    transformer_analyzer = TransformerABSA()\n",
    "    analyzers['Transformer'] = transformer_analyzer\n",
    "    print(\"✓ TransformerABSA initialized successfully\")\n",
    "except Exception as e:\n",
    "    print(f\"✗ TransformerABSA failed to initialize: {e}\")\n",
    "\n",
    "# LLM-based ABSA\n",
    "try:\n",
    "    llm_analyzer = LLMABSA()\n",
    "    analyzers['LLM'] = llm_analyzer\n",
    "    print(\"✓ LLMABSA initialized successfully\")\n",
    "except Exception as e:\n",
    "    print(f\"✗ LLMABSA failed to initialize: {e}\")\n",
    "\n",
    "print(f\"\\nSuccessfully initialized {len(analyzers)} analyzers\")"
   ],
   "outputs": [
    {
     "name": "stdout",
     "output_type": "stream",
     "text": [
      "Initializing analyzers...\n",
      "\n",
      "✓ LexiconABSA initialized successfully\n",
      "Error loading model yangheng/deberta-v3-base-absa-v1.1: \n",
      "DebertaV2Tokenizer requires the SentencePiece library but it was not found in your environment. Check out the instructions on the\n",
      "installation page of its repo: https://github.com/google/sentencepiece#installation and follow the ones\n",
      "that match your environment. Please note that you may need to restart your runtime after installation.\n",
      "\n",
      "Falling back to alternative ABSA model...\n"
     ]
    },
    {
     "name": "stderr",
     "output_type": "stream",
     "text": [
      "Some weights of the model checkpoint at cardiffnlp/twitter-roberta-base-sentiment-latest were not used when initializing RobertaForSequenceClassification: ['roberta.pooler.dense.bias', 'roberta.pooler.dense.weight']\n",
      "- This IS expected if you are initializing RobertaForSequenceClassification from the checkpoint of a model trained on another task or with another architecture (e.g. initializing a BertForSequenceClassification model from a BertForPreTraining model).\n",
      "- This IS NOT expected if you are initializing RobertaForSequenceClassification from the checkpoint of a model that you expect to be exactly identical (initializing a BertForSequenceClassification model from a BertForSequenceClassification model).\n"
     ]
    },
    {
     "name": "stdout",
     "output_type": "stream",
     "text": [
      "✓ TransformerABSA initialized successfully\n",
      "✓ LLMABSA initialized successfully\n",
      "\n",
      "Successfully initialized 3 analyzers\n"
     ]
    }
   ],
   "execution_count": 3
  },
  {
   "cell_type": "markdown",
   "metadata": {},
   "source": [
    "## Quick Test on Sample Reviews"
   ]
  },
  {
   "cell_type": "code",
   "metadata": {
    "ExecuteTime": {
     "end_time": "2025-10-28T16:47:59.719445Z",
     "start_time": "2025-10-28T16:47:22.568928Z"
    }
   },
   "source": [
    "# Test on a few sample texts\n",
    "test_texts = [\n",
    "    \"The pizza was delicious but the service was terrible.\",\n",
    "    \"The laptop has great performance and excellent battery life.\",\n",
    "    \"The hotel room was clean and comfortable, but the WiFi was slow.\"\n",
    "]\n",
    "\n",
    "for i, text in enumerate(test_texts, 1):\n",
    "    print(f\"\\n{'='*70}\")\n",
    "    print(f\"Test {i}: {text}\")\n",
    "    print('='*70)\n",
    "\n",
    "    for name, analyzer in analyzers.items():\n",
    "        try:\n",
    "            start_time = time.time()\n",
    "            results = analyzer.analyze(text)\n",
    "            processing_time = time.time() - start_time\n",
    "\n",
    "            print(f\"\\n{name} ({processing_time:.3f}s):\")\n",
    "            if results:\n",
    "                for result in results:\n",
    "                    print(f\"  • {result.aspect}: {result.sentiment} (conf: {result.confidence:.2f})\")\n",
    "            else:\n",
    "                print(\"  No aspects found\")\n",
    "\n",
    "        except Exception as e:\n",
    "            print(f\"\\n{name} Error: {e}\")"
   ],
   "outputs": [
    {
     "name": "stderr",
     "output_type": "stream",
     "text": [
      "Device set to use cpu\n"
     ]
    },
    {
     "name": "stdout",
     "output_type": "stream",
     "text": [
      "\n",
      "======================================================================\n",
      "Test 1: The pizza was delicious but the service was terrible.\n",
      "======================================================================\n",
      "\n",
      "Lexicon (0.016s):\n",
      "  • service speed: positive (conf: 0.57)\n",
      "  • pizza: positive (conf: 0.57)\n",
      "  • service: positive (conf: 0.57)\n",
      "\n",
      "Transformer (0.178s):\n",
      "  • service: negative (conf: 0.90)\n",
      "  • pizza: positive (conf: 0.95)\n"
     ]
    },
    {
     "name": "stderr",
     "output_type": "stream",
     "text": [
      "Device set to use cpu\n"
     ]
    },
    {
     "name": "stdout",
     "output_type": "stream",
     "text": [
      "\n",
      "LLM (12.866s):\n",
      "  • pizza: positive (conf: 0.90)\n",
      "  • service: negative (conf: 0.80)\n",
      "\n",
      "======================================================================\n",
      "Test 2: The laptop has great performance and excellent battery life.\n",
      "======================================================================\n",
      "\n",
      "Lexicon (0.044s):\n",
      "  • laptop: positive (conf: 0.62)\n",
      "  • performance: positive (conf: 0.62)\n",
      "  • battery: positive (conf: 0.62)\n",
      "  • life: positive (conf: 0.62)\n",
      "  • great performance: positive (conf: 0.62)\n",
      "  • excellent battery life: positive (conf: 0.62)\n",
      "\n",
      "Transformer (0.353s):\n",
      "  • excellent battery life: positive (conf: 0.98)\n",
      "  • great performance: positive (conf: 0.99)\n",
      "  • laptop: positive (conf: 0.99)\n"
     ]
    },
    {
     "name": "stderr",
     "output_type": "stream",
     "text": [
      "Device set to use cpu\n"
     ]
    },
    {
     "name": "stdout",
     "output_type": "stream",
     "text": [
      "\n",
      "LLM (8.982s):\n",
      "  • performance: positive (conf: 0.90)\n",
      "  • battery life: positive (conf: 0.80)\n",
      "\n",
      "======================================================================\n",
      "Test 3: The hotel room was clean and comfortable, but the WiFi was slow.\n",
      "======================================================================\n",
      "\n",
      "Lexicon (0.029s):\n",
      "  • hotel: positive (conf: 0.51)\n",
      "  • room: positive (conf: 0.51)\n",
      "  • wifi: positive (conf: 0.51)\n",
      "  • hotel room: positive (conf: 0.51)\n",
      "\n",
      "Transformer (0.129s):\n",
      "  • wifi: neutral (conf: 0.47)\n",
      "  • room: positive (conf: 0.59)\n",
      "\n",
      "LLM (14.541s):\n",
      "  • cleanliness: positive (conf: 0.90)\n",
      "  • comfort: positive (conf: 0.80)\n",
      "  • WiFi speed: negative (conf: 0.70)\n"
     ]
    }
   ],
   "execution_count": 4
  },
  {
   "cell_type": "markdown",
   "metadata": {},
   "source": [
    "## Full Evaluation on Test Set\n",
    "\n",
    "Now let's evaluate all analyzers on our annotated test set. **Change NUM_SAMPLES_TO_EVALUATE to 50 for full evaluation.**"
   ]
  },
  {
   "metadata": {
    "ExecuteTime": {
     "end_time": "2025-10-28T16:51:25.769392Z",
     "start_time": "2025-10-28T16:47:59.806747Z"
    }
   },
   "cell_type": "code",
   "source": [
    "NUM_SAMPLES_TO_EVALUATE = 10\n",
    "\n",
    "evaluation_data = test_data[:NUM_SAMPLES_TO_EVALUATE]\n",
    "\n",
    "print(f\"Evaluating on {len(evaluation_data)} samples...\\n\")\n",
    "\n",
    "all_results = {}\n",
    "\n",
    "for name, analyzer in analyzers.items():\n",
    "    print(f\"\\nEvaluating {name}...\")\n",
    "    results = benchmark_analyzer(analyzer, evaluation_data, name)\n",
    "    all_results[name] = results\n",
    "    \n",
    "    # Calculate average metrics\n",
    "    avg_accuracy = np.mean([r['accuracy'] for r in results])\n",
    "    avg_precision = np.mean([r['precision'] for r in results])\n",
    "    avg_recall = np.mean([r['recall'] for r in results])\n",
    "    avg_f1 = np.mean([r['f1'] for r in results])\n",
    "    avg_time = np.mean([r['processing_time'] for r in results])\n",
    "    \n",
    "    print(f\"  Accuracy:  {avg_accuracy:.3f}\")\n",
    "    print(f\"  Precision: {avg_precision:.3f}\")\n",
    "    print(f\"  Recall:    {avg_recall:.3f}\")\n",
    "    print(f\"  F1 Score:  {avg_f1:.3f}\")\n",
    "    print(f\"  Avg Time:  {avg_time:.3f}s\")\n",
    "\n",
    "print(\"\\n✓ Evaluation complete!\")"
   ],
   "outputs": [
    {
     "name": "stdout",
     "output_type": "stream",
     "text": [
      "Evaluating on 10 samples...\n",
      "\n",
      "\n",
      "Evaluating Lexicon...\n"
     ]
    },
    {
     "name": "stderr",
     "output_type": "stream",
     "text": [
      "Device set to use cpu\n"
     ]
    },
    {
     "name": "stdout",
     "output_type": "stream",
     "text": [
      "  Accuracy:  0.432\n",
      "  Precision: 0.317\n",
      "  Recall:    0.762\n",
      "  F1 Score:  0.416\n",
      "  Avg Time:  0.028s\n",
      "\n",
      "Evaluating Transformer...\n"
     ]
    },
    {
     "name": "stderr",
     "output_type": "stream",
     "text": [
      "Device set to use cpu\n",
      "Device set to use cpu\n",
      "Device set to use cpu\n",
      "Device set to use cpu\n",
      "Device set to use cpu\n",
      "Device set to use cpu\n",
      "Device set to use cpu\n",
      "Device set to use cpu\n",
      "Device set to use cpu\n"
     ]
    },
    {
     "name": "stdout",
     "output_type": "stream",
     "text": [
      "  Accuracy:  0.472\n",
      "  Precision: 0.232\n",
      "  Recall:    0.508\n",
      "  F1 Score:  0.311\n",
      "  Avg Time:  0.557s\n",
      "\n",
      "Evaluating LLM...\n",
      "  Accuracy:  0.688\n",
      "  Precision: 0.585\n",
      "  Recall:    0.663\n",
      "  F1 Score:  0.610\n",
      "  Avg Time:  20.009s\n",
      "\n",
      "✓ Evaluation complete!\n"
     ]
    }
   ],
   "execution_count": 5
  },
  {
   "cell_type": "markdown",
   "metadata": {},
   "source": [
    "## Performance Comparison"
   ]
  },
  {
   "cell_type": "code",
   "metadata": {
    "ExecuteTime": {
     "end_time": "2025-10-28T16:51:25.949620Z",
     "start_time": "2025-10-28T16:51:25.926251Z"
    }
   },
   "source": [
    "# Create comparison DataFrame\n",
    "comparison_data = []\n",
    "\n",
    "for name, results in all_results.items():\n",
    "    comparison_data.append({\n",
    "        'Method': name,\n",
    "        'Accuracy': np.mean([r['accuracy'] for r in results]),\n",
    "        'Precision': np.mean([r['precision'] for r in results]),\n",
    "        'Recall': np.mean([r['recall'] for r in results]),\n",
    "        'F1 Score': np.mean([r['f1'] for r in results]),\n",
    "        'Avg Time (s)': np.mean([r['processing_time'] for r in results]),\n",
    "        'Total Aspects Found': sum(len(r['aspects']) for r in results)\n",
    "    })\n",
    "\n",
    "comparison_df = pd.DataFrame(comparison_data)\n",
    "comparison_df = comparison_df.set_index('Method')\n",
    "\n",
    "print(\"\\n\" + \"=\"*70)\n",
    "print(\"PERFORMANCE COMPARISON\")\n",
    "print(\"=\"*70)\n",
    "print(comparison_df.to_string())"
   ],
   "outputs": [
    {
     "name": "stdout",
     "output_type": "stream",
     "text": [
      "\n",
      "======================================================================\n",
      "PERFORMANCE COMPARISON\n",
      "======================================================================\n",
      "             Accuracy  Precision    Recall  F1 Score  Avg Time (s)  Total Aspects Found\n",
      "Method                                                                                 \n",
      "Lexicon      0.431667   0.316531  0.761667  0.416336      0.028272                  116\n",
      "Transformer  0.471667   0.231883  0.508333  0.311216      0.556504                  110\n",
      "LLM          0.688333   0.585379  0.663333  0.609520     20.009398                   57\n"
     ]
    }
   ],
   "execution_count": 6
  },
  {
   "cell_type": "markdown",
   "metadata": {},
   "source": [
    "## Visualization"
   ]
  },
  {
   "cell_type": "code",
   "metadata": {
    "ExecuteTime": {
     "end_time": "2025-10-28T16:51:26.609476Z",
     "start_time": "2025-10-28T16:51:25.957417Z"
    }
   },
   "source": [
    "# Create visualizations\n",
    "fig, axes = plt.subplots(2, 2, figsize=(14, 10))\n",
    "\n",
    "# Plot 1: Accuracy, Precision, Recall, F1\n",
    "metrics_df = comparison_df[['Accuracy', 'Precision', 'Recall', 'F1 Score']]\n",
    "metrics_df.plot(kind='bar', ax=axes[0, 0], rot=0)\n",
    "axes[0, 0].set_title('Performance Metrics Comparison', fontsize=12, fontweight='bold')\n",
    "axes[0, 0].set_ylabel('Score')\n",
    "axes[0, 0].set_ylim(0, 1.0)\n",
    "axes[0, 0].legend(loc='lower right')\n",
    "axes[0, 0].grid(axis='y', alpha=0.3)\n",
    "\n",
    "# Plot 2: Processing Time\n",
    "comparison_df['Avg Time (s)'].plot(kind='bar', ax=axes[0, 1], rot=0, color=['#3498db', '#2ecc71', '#e74c3c'])\n",
    "axes[0, 1].set_title('Average Processing Time', fontsize=12, fontweight='bold')\n",
    "axes[0, 1].set_ylabel('Time (seconds)')\n",
    "axes[0, 1].grid(axis='y', alpha=0.3)\n",
    "\n",
    "# Plot 3: F1 Score Comparison\n",
    "comparison_df['F1 Score'].plot(kind='barh', ax=axes[1, 0], color=['#3498db', '#2ecc71', '#e74c3c'])\n",
    "axes[1, 0].set_title('F1 Score Comparison', fontsize=12, fontweight='bold')\n",
    "axes[1, 0].set_xlabel('F1 Score')\n",
    "axes[1, 0].set_xlim(0, 1.0)\n",
    "axes[1, 0].grid(axis='x', alpha=0.3)\n",
    "\n",
    "# Plot 4: Total Aspects Found\n",
    "comparison_df['Total Aspects Found'].plot(kind='bar', ax=axes[1, 1], rot=0, color=['#3498db', '#2ecc71', '#e74c3c'])\n",
    "axes[1, 1].set_title('Total Aspects Detected', fontsize=12, fontweight='bold')\n",
    "axes[1, 1].set_ylabel('Number of Aspects')\n",
    "axes[1, 1].grid(axis='y', alpha=0.3)\n",
    "\n",
    "plt.tight_layout()\n",
    "plt.savefig('../doc/performance_comparison.png', dpi=300, bbox_inches='tight')\n",
    "plt.show()\n",
    "\n",
    "print(\"✓ Visualizations generated and saved to doc/performance_comparison.png\")"
   ],
   "outputs": [
    {
     "data": {
      "text/plain": [
       "<Figure size 1400x1000 with 4 Axes>"
      ],
      "image/png": "[encoded data removed]"
     },
     "metadata": {},
     "output_type": "display_data",
     "jetTransient": {
      "display_id": null
     }
    },
    {
     "name": "stdout",
     "output_type": "stream",
     "text": [
      "✓ Visualizations generated and saved to doc/performance_comparison.png\n"
     ]
    }
   ],
   "execution_count": 7
  },
  {
   "cell_type": "markdown",
   "metadata": {},
   "source": [
    "## Detailed Analysis: Sample Results"
   ]
  },
  {
   "cell_type": "code",
   "metadata": {
    "ExecuteTime": {
     "end_time": "2025-10-28T16:51:26.624558Z",
     "start_time": "2025-10-28T16:51:26.620737Z"
    }
   },
   "source": [
    "# Show detailed results for first few examples\n",
    "print(\"\\n\" + \"=\"*70)\n",
    "print(\"DETAILED ANALYSIS - Sample Results\")\n",
    "print(\"=\"*70)\n",
    "\n",
    "for i in range(min(3, len(evaluation_data))):\n",
    "    sample = evaluation_data[i]\n",
    "    print(f\"\\n{'='*70}\")\n",
    "    print(f\"Sample {i+1}\")\n",
    "    print(f\"Text: {sample['text'][:100]}...\")\n",
    "    print(f\"{'='*70}\")\n",
    "    \n",
    "    # Ground truth\n",
    "    print(f\"\\nGround Truth ({len(sample['ground_truth'])} aspects):\")\n",
    "    for gt in sample['ground_truth']:\n",
    "        print(f\"  • {gt['aspect']}: {gt['sentiment']} (conf: {gt['confidence']})\")\n",
    "    \n",
    "    # Predictions from each method\n",
    "    for name, results in all_results.items():\n",
    "        result = results[i]\n",
    "        print(f\"\\n{name} Predictions ({len(result['aspects'])} aspects):\")\n",
    "        if result['aspects']:\n",
    "            for asp in result['aspects']:\n",
    "                print(f\"  • {asp.aspect}: {asp.sentiment} (conf: {asp.confidence:.2f})\")\n",
    "        else:\n",
    "            print(\"  No aspects found\")\n",
    "        print(f\"  Accuracy: {result['accuracy']:.3f}, F1: {result['f1']:.3f}\")"
   ],
   "outputs": [
    {
     "name": "stdout",
     "output_type": "stream",
     "text": [
      "\n",
      "======================================================================\n",
      "DETAILED ANALYSIS - Sample Results\n",
      "======================================================================\n",
      "\n",
      "======================================================================\n",
      "Sample 1\n",
      "Text: If you decide to eat here, just be aware it is going to take about 2 hours from beginning to end. We...\n",
      "======================================================================\n",
      "\n",
      "Ground Truth (4 aspects):\n",
      "  • wait time: negative (conf: 0.95)\n",
      "  • food: positive (conf: 0.75)\n",
      "  • waitstaff: positive (conf: 0.65)\n",
      "  • service speed: negative (conf: 0.9)\n",
      "\n",
      "Lexicon Predictions (3 aspects):\n",
      "  • times: neutral (conf: 0.05)\n",
      "  • food: negative (conf: 0.54)\n",
      "  • waitstaff: positive (conf: 0.51)\n",
      "  Accuracy: 0.250, F1: 0.286\n",
      "\n",
      "Transformer Predictions (3 aspects):\n",
      "  • waitstaff: neutral (conf: 0.81)\n",
      "  • times: positive (conf: 0.57)\n",
      "  • food: negative (conf: 0.76)\n",
      "  Accuracy: 0.000, F1: 0.000\n",
      "\n",
      "LLM Predictions (4 aspects):\n",
      "  • wait time: negative (conf: 0.80)\n",
      "  • food quality: positive (conf: 0.70)\n",
      "  • waitstaff friendliness: neutral (conf: 0.60)\n",
      "  • restaurant experience: negative (conf: 0.90)\n",
      "  Accuracy: 0.500, F1: 0.500\n",
      "\n",
      "======================================================================\n",
      "Sample 2\n",
      "Text: I've taken a lot of spin classes over the years, and nothing compares to the classes at Body Cycle. ...\n",
      "======================================================================\n",
      "\n",
      "Ground Truth (6 aspects):\n",
      "  • classes: positive (conf: 0.95)\n",
      "  • space: positive (conf: 0.85)\n",
      "  • bikes: positive (conf: 0.9)\n",
      "  • instructors: positive (conf: 0.95)\n",
      "  • scheduling system: positive (conf: 0.85)\n",
      "  • owner: positive (conf: 0.95)\n",
      "\n",
      "Lexicon Predictions (14 aspects):\n",
      "  • cycle: positive (conf: 0.42)\n",
      "  • space: positive (conf: 0.59)\n",
      "  • bikes: positive (conf: 0.59)\n",
      "  • welcoming: positive (conf: 0.59)\n",
      "  • instructors: positive (conf: 0.51)\n",
      "  • class: positive (conf: 0.43)\n",
      "  • scheduling: positive (conf: 0.44)\n",
      "  • system: positive (conf: 0.44)\n",
      "  • gyms: positive (conf: 0.25)\n",
      "  • owner: negative (conf: 0.18)\n",
      "  • fitness: positive (conf: 0.44)\n",
      "  • cycling: positive (conf: 0.44)\n",
      "  • clients: positive (conf: 0.50)\n",
      "  • amazing bikes: positive (conf: 0.59)\n",
      "  Accuracy: 0.833, F1: 0.700\n",
      "\n",
      "Transformer Predictions (11 aspects):\n",
      "  • amazing bikes: positive (conf: 0.96)\n",
      "  • spin classes: negative (conf: 0.47)\n",
      "  • instructors: positive (conf: 0.96)\n",
      "  • scheduling: positive (conf: 0.65)\n",
      "  • welcoming: positive (conf: 0.98)\n",
      "  • cycling: positive (conf: 0.94)\n",
      "  • fitness: positive (conf: 0.97)\n",
      "  • system: positive (conf: 0.75)\n",
      "  • space: positive (conf: 0.95)\n",
      "  • cycle: positive (conf: 0.96)\n",
      "  • owner: neutral (conf: 0.85)\n",
      "  Accuracy: 0.667, F1: 0.588\n",
      "\n",
      "LLM Predictions (6 aspects):\n",
      "  • space: positive (conf: 0.90)\n",
      "  • bikes: positive (conf: 0.80)\n",
      "  • instructors: positive (conf: 0.90)\n",
      "  • online scheduling system: positive (conf: 0.70)\n",
      "  • Russell (owner): positive (conf: 0.90)\n",
      "  • classes: positive (conf: 0.80)\n",
      "  Accuracy: 1.000, F1: 1.000\n",
      "\n",
      "======================================================================\n",
      "Sample 3\n",
      "Text: Family diner. Had the buffet. Eclectic assortment: a large chicken leg, fried jalapeño, tamale, two ...\n",
      "======================================================================\n",
      "\n",
      "Ground Truth (4 aspects):\n",
      "  • buffet: positive (conf: 0.8)\n",
      "  • food variety: positive (conf: 0.85)\n",
      "  • staff: positive (conf: 0.9)\n",
      "  • atmosphere: positive (conf: 0.75)\n",
      "\n",
      "Lexicon Predictions (4 aspects):\n",
      "  • choices: positive (conf: 0.44)\n",
      "  • staff: positive (conf: 0.49)\n",
      "  • meal: positive (conf: 0.49)\n",
      "  • mexican choices: positive (conf: 0.44)\n",
      "  Accuracy: 0.250, F1: 0.250\n",
      "\n",
      "Transformer Predictions (7 aspects):\n",
      "  • friendly, attentive staff: positive (conf: 0.97)\n",
      "  • mexican choices: positive (conf: 0.92)\n",
      "  • breakfast: positive (conf: 0.76)\n",
      "  • clarion: neutral (conf: 0.67)\n",
      "  • buffet: positive (conf: 0.95)\n",
      "  • meal: neutral (conf: 0.58)\n",
      "  • menu: neutral (conf: 0.52)\n",
      "  Accuracy: 0.500, F1: 0.364\n",
      "\n",
      "LLM Predictions (6 aspects):\n",
      "  • buffet: positive (conf: 0.90)\n",
      "  • eclectic assortment: positive (conf: 0.80)\n",
      "  • Mexican choices: positive (conf: 0.70)\n",
      "  • menu with breakfast served all day long: positive (conf: 0.60)\n",
      "  • staff: positive (conf: 0.90)\n",
      "  • location (next to Clarion Hotel): neutral (conf: 0.40)\n",
      "  Accuracy: 0.500, F1: 0.400\n"
     ]
    }
   ],
   "execution_count": 8
  },
  {
   "cell_type": "markdown",
   "metadata": {},
   "source": [
    "## Save Results"
   ]
  },
  {
   "cell_type": "code",
   "metadata": {
    "ExecuteTime": {
     "end_time": "2025-10-28T16:51:26.648786Z",
     "start_time": "2025-10-28T16:51:26.643397Z"
    }
   },
   "source": [
    "# Save detailed results to JSON\n",
    "output_results = {\n",
    "    'evaluation_summary': comparison_data,\n",
    "    'num_samples_evaluated': len(evaluation_data),\n",
    "    'detailed_results': {}\n",
    "}\n",
    "\n",
    "for name, results in all_results.items():\n",
    "    output_results['detailed_results'][name] = [\n",
    "        {\n",
    "            'text': r['text'][:100],  # Truncate for readability\n",
    "            'predictions': [{'aspect': a.aspect, 'sentiment': a.sentiment, 'confidence': a.confidence} \n",
    "                           for a in r['aspects']],\n",
    "            'metrics': {\n",
    "                'accuracy': r['accuracy'],\n",
    "                'precision': r['precision'],\n",
    "                'recall': r['recall'],\n",
    "                'f1': r['f1'],\n",
    "                'time': r['processing_time']\n",
    "            }\n",
    "        }\n",
    "        for r in results\n",
    "    ]\n",
    "\n",
    "with open('../data/evaluation_results.json', 'w') as f:\n",
    "    json.dump(output_results, f, indent=2)\n",
    "\n",
    "print(\"✓ Results saved to data/evaluation_results.json\")"
   ],
   "outputs": [
    {
     "name": "stdout",
     "output_type": "stream",
     "text": [
      "✓ Results saved to data/evaluation_results.json\n"
     ]
    }
   ],
   "execution_count": 9
  }
 ],
 "metadata": {
  "kernelspec": {
   "display_name": "Python 3",
   "language": "python",
   "name": "python3"
  },
  "language_info": {
   "codemirror_mode": {
    "name": "ipython",
    "version": 3
   },
   "file_extension": ".py",
   "name": "python",
   "nbconvert_exporter": "python",
   "pygments_lexer": "ipython3",
   "version": "3.8.0"
  }
 },
 "nbformat": 4,
 "nbformat_minor": 4
}
