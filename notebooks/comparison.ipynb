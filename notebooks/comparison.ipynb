{
  "cells": [
    {
      "cell_type": "markdown",
      "metadata": {},
      "source": [
        "# Aspect-Based Sentiment Analysis Comparison\n",
        "\n",
        "This notebook provides a comprehensive comparison of the three ABSA implementations.\n",
        "\n",
        "## Analysis Overview\n",
        "- Performance metrics comparison\n",
        "- Speed and accuracy analysis\n",
        "- Qualitative comparison of results\n",
        "- Use case recommendations\n"
      ]
    },
    {
      "cell_type": "code",
      "execution_count": null,
      "metadata": {},
      "outputs": [],
      "source": [
        "import sys\n",
        "import os\n",
        "import time\n",
        "import pandas as pd\n",
        "import matplotlib.pyplot as plt\n",
        "import seaborn as sns\n",
        "import numpy as np\n",
        "from pathlib import Path\n",
        "\n",
        "sys.path.append(os.path.join(os.path.dirname(os.getcwd()), 'src'))\n",
        "\n",
        "from base import AspectSentiment\n",
        "from lexicon_absa import LexiconABSA\n",
        "from transformer_absa import TransformerABSA\n",
        "from llm_absa import LLMABSA\n",
        "from utils import (\n",
        "    load_test_data, benchmark_analyzer, calculate_accuracy,\n",
        "    calculate_precision_recall_f1, create_sample_data, ensure_data_directory\n",
        ")\n",
        "\n",
        "plt.style.use('seaborn-v0_8')\n",
        "sns.set_palette(\"husl\")\n"
      ]
    }
  ],
  "metadata": {
    "language_info": {
      "name": "python"
    }
  },
  "nbformat": 4,
  "nbformat_minor": 2
}
